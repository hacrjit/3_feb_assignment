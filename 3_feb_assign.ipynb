{
 "cells": [
  {
   "cell_type": "markdown",
   "id": "f1787bbb",
   "metadata": {},
   "source": [
    "### Q1. Which keyword is used to create a function? Create a function to return a list of odd numbers in the range of 1 to 25."
   ]
  },
  {
   "cell_type": "markdown",
   "id": "91a12df7",
   "metadata": {},
   "source": [
    "#### def is used to create a function."
   ]
  },
  {
   "cell_type": "code",
   "execution_count": 66,
   "id": "38b72ff7",
   "metadata": {},
   "outputs": [],
   "source": [
    "def odd():\n",
    "    l = []\n",
    "    for i in range(1,25):\n",
    "        if i % 2 != 0:\n",
    "            l.append(i)\n",
    "    return l"
   ]
  },
  {
   "cell_type": "code",
   "execution_count": 67,
   "id": "e7d4afa8",
   "metadata": {},
   "outputs": [
    {
     "data": {
      "text/plain": [
       "[1, 3, 5, 7, 9, 11, 13, 15, 17, 19, 21, 23]"
      ]
     },
     "execution_count": 67,
     "metadata": {},
     "output_type": "execute_result"
    }
   ],
   "source": [
    "odd()"
   ]
  },
  {
   "cell_type": "markdown",
   "id": "96ab15c3",
   "metadata": {},
   "source": [
    "### Q2. Why * args and ** kwargs is used in some functions? Create a function each for * args and ** kwargs to demonstrate their use."
   ]
  },
  {
   "cell_type": "raw",
   "id": "ff13c075",
   "metadata": {},
   "source": [
    "*args -- are used to take any No. of inputs in a set.\n",
    "**args -- are used to take any No. of key value pair in a set similar to dictionary."
   ]
  },
  {
   "cell_type": "code",
   "execution_count": 68,
   "id": "ed3177a8",
   "metadata": {},
   "outputs": [],
   "source": [
    "def fun(*args):\n",
    "    return args"
   ]
  },
  {
   "cell_type": "code",
   "execution_count": 69,
   "id": "a3460c6d",
   "metadata": {},
   "outputs": [
    {
     "data": {
      "text/plain": [
       "(1, 4, 8, 7, 8)"
      ]
     },
     "execution_count": 69,
     "metadata": {},
     "output_type": "execute_result"
    }
   ],
   "source": [
    "fun(1,4,8,7,8)"
   ]
  },
  {
   "cell_type": "code",
   "execution_count": 70,
   "id": "b1d30db2",
   "metadata": {},
   "outputs": [],
   "source": [
    "def fun2(**args):\n",
    "    return args"
   ]
  },
  {
   "cell_type": "code",
   "execution_count": 71,
   "id": "c34cc0f4",
   "metadata": {},
   "outputs": [
    {
     "data": {
      "text/plain": [
       "{}"
      ]
     },
     "execution_count": 71,
     "metadata": {},
     "output_type": "execute_result"
    }
   ],
   "source": [
    "fun2()"
   ]
  },
  {
   "cell_type": "code",
   "execution_count": 72,
   "id": "72a81b31",
   "metadata": {},
   "outputs": [
    {
     "data": {
      "text/plain": [
       "{'a': 'rds', 'u': 'tryyws', 't': 89, 'e': [2, 3, 45, 5]}"
      ]
     },
     "execution_count": 72,
     "metadata": {},
     "output_type": "execute_result"
    }
   ],
   "source": [
    "fun2(a = \"rds\",u = \"tryyws\", t = 89,e = [2,3,45,5])"
   ]
  },
  {
   "cell_type": "markdown",
   "id": "e4baa915",
   "metadata": {},
   "source": [
    "### Q3. What is an iterator in python? Name the method used to initialise the iterator object and the method used for iteration. Use these methods to print the first five elements of the given list [2, 4, 6, 8, 10, 12, 14, 16, 18, 20]."
   ]
  },
  {
   "cell_type": "markdown",
   "id": "93d09f8a",
   "metadata": {},
   "source": [
    "##### An iterator is an object that can be iterated upon, i.e you can traverse through all the values.\n",
    "##### Iter() method is used to initialize the iterator object and next() is used for iteration."
   ]
  },
  {
   "cell_type": "code",
   "execution_count": 73,
   "id": "9a5140d7",
   "metadata": {},
   "outputs": [],
   "source": [
    "iterator = iter([2, 4, 6, 8, 10, 12, 14, 16, 18, 20])"
   ]
  },
  {
   "cell_type": "code",
   "execution_count": 74,
   "id": "5d35f7e3",
   "metadata": {},
   "outputs": [
    {
     "name": "stdout",
     "output_type": "stream",
     "text": [
      "2\n",
      "4\n",
      "6\n",
      "8\n",
      "10\n"
     ]
    }
   ],
   "source": [
    "#  first five elements of the given list [2, 4, 6, 8, 10, 12, 14, 16, 18, 20]\n",
    "\n",
    "for i in range(5):\n",
    "    print(next(iterator))"
   ]
  },
  {
   "cell_type": "markdown",
   "id": "238edab7",
   "metadata": {},
   "source": [
    "### Q4. What is a generator function in python? Why yield keyword is used? Give an example of a generator function."
   ]
  },
  {
   "cell_type": "markdown",
   "id": "69bbfb63",
   "metadata": {},
   "source": [
    "Generator function is a function that does not return a single value insted of that it returns an iterator object.\n",
    "yield keyword is used to save memory because it gives the output one by one insted of storing all the values and returning at once."
   ]
  },
  {
   "cell_type": "markdown",
   "id": "25aacfd6",
   "metadata": {},
   "source": [
    "##### example:"
   ]
  },
  {
   "cell_type": "code",
   "execution_count": 56,
   "id": "1e31165e",
   "metadata": {},
   "outputs": [],
   "source": [
    "def generator(n):\n",
    "    i = 0\n",
    "    while i < n:\n",
    "        yield i**3\n",
    "        i += 1"
   ]
  },
  {
   "cell_type": "code",
   "execution_count": 57,
   "id": "ad35916e",
   "metadata": {},
   "outputs": [
    {
     "data": {
      "text/plain": [
       "<generator object generator at 0x7f1c1dafe740>"
      ]
     },
     "execution_count": 57,
     "metadata": {},
     "output_type": "execute_result"
    }
   ],
   "source": [
    "generator(5)"
   ]
  },
  {
   "cell_type": "code",
   "execution_count": 58,
   "id": "4ec98d4e",
   "metadata": {},
   "outputs": [
    {
     "data": {
      "text/plain": [
       "[0, 1, 8, 27, 64]"
      ]
     },
     "execution_count": 58,
     "metadata": {},
     "output_type": "execute_result"
    }
   ],
   "source": [
    "list(generator(5))"
   ]
  },
  {
   "cell_type": "markdown",
   "id": "e8a76a87",
   "metadata": {},
   "source": [
    "### Q5. Create a generator function for prime numbers less than 1000. Use the next() method to print the first 20 prime numbers."
   ]
  },
  {
   "cell_type": "code",
   "execution_count": 59,
   "id": "0ad6a7f5",
   "metadata": {},
   "outputs": [],
   "source": [
    "def prime_no():\n",
    "    i = 0\n",
    "    while i < 1000:\n",
    "        for j in range(2,i):\n",
    "            if i % j == 0:\n",
    "                i += 1\n",
    "                break\n",
    "        else:\n",
    "            yield i\n",
    "            i += 1"
   ]
  },
  {
   "cell_type": "code",
   "execution_count": 60,
   "id": "4650ec15",
   "metadata": {},
   "outputs": [
    {
     "data": {
      "text/plain": [
       "<generator object prime_no at 0x7f1c1dafe9e0>"
      ]
     },
     "execution_count": 60,
     "metadata": {},
     "output_type": "execute_result"
    }
   ],
   "source": [
    "prime_no()"
   ]
  },
  {
   "cell_type": "code",
   "execution_count": 61,
   "id": "472a07ae",
   "metadata": {},
   "outputs": [
    {
     "name": "stdout",
     "output_type": "stream",
     "text": [
      "0\n",
      "1\n",
      "2\n",
      "3\n",
      "5\n",
      "7\n",
      "11\n",
      "13\n",
      "17\n",
      "19\n",
      "23\n",
      "29\n",
      "31\n",
      "37\n",
      "41\n",
      "43\n",
      "47\n",
      "53\n",
      "59\n",
      "61\n"
     ]
    }
   ],
   "source": [
    "#  next() method to print the first 20 prime numbers\n",
    "\n",
    "mylist = prime_no()\n",
    "for i in range(20):\n",
    "    print(next(mylist))"
   ]
  }
 ],
 "metadata": {
  "kernelspec": {
   "display_name": "Python 3 (ipykernel)",
   "language": "python",
   "name": "python3"
  },
  "language_info": {
   "codemirror_mode": {
    "name": "ipython",
    "version": 3
   },
   "file_extension": ".py",
   "mimetype": "text/x-python",
   "name": "python",
   "nbconvert_exporter": "python",
   "pygments_lexer": "ipython3",
   "version": "3.9.7"
  }
 },
 "nbformat": 4,
 "nbformat_minor": 5
}
